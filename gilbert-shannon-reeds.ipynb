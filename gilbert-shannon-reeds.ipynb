{
 "cells": [
  {
   "cell_type": "markdown",
   "metadata": {},
   "source": [
    "# Gilbert-Shannon-Reeds card shuffling model\n",
    "\n",
    "_We would like to simulate the process of humans (or perhaps machines) shuffling cards. \n",
    "The outline of a well known model is:_\n",
    "1. _The 'deck' is randomly divided into two parts, or 'left' and 'right' 'sub-decks'._\n",
    "2. _We randomly drop a card from the bottom of one of the sub-decks onto our shuffled pile until one sub-deck runs out; the remaining cards from the un-exhausted sub-deck are dropped on top._\n",
    "\n",
    "_To complete the model, we must make precise what we mean by ‘randomly’.\n",
    "Suppose you are given two functions that take care of the random number generation part:_\n",
    "`get_random_number_for_right_deck(n)` _returns an integer between 0 and _`n`_ (inclusive), the number of cards to split into the right sub-deck._\n",
    "`should_drop_from_right_deck(n_left, n_right)` _returns_ `True` _if we should drop a card from the right sub-deck, and _`False`_ if we should drop it from the left._"
   ]
  },
  {
   "cell_type": "markdown",
   "metadata": {},
   "source": [
    "_Write a function, _`shuffle()`_, that takes a sequence of integers and implements this shuffling algorithm using the two functions provided, returning a sequence of shuffled integers.\n",
    "Assume we do not want to destroy the input sequence in the process.  \n",
    "Do not assume that the deck will have 52 cards!  \n",
    "Ideally, we would be able to reuse the implementation of _`shuffle()` _to study different implementations of _`get_random_number_for_right_deck(n)`_ and _`should_drop_from_right_deck(n_left, n_right)`.  \n",
    "_Many people find it helpful and clarifying to envision a person actually shuffling a deck when writing the shuffling function._"
   ]
  },
  {
   "cell_type": "code",
   "execution_count": 1,
   "metadata": {},
   "outputs": [],
   "source": [
    "from collections import deque\n",
    "from itertools import chain\n",
    "from typing import Callable, List, Optional\n",
    "\n",
    "Deck = List[int]\n",
    "\n",
    "\n",
    "def shuffle(\n",
    "        cards: Deck, \n",
    "        _get_random_number_for_right: Optional[Callable[[int], int]] = None,\n",
    "        _should_drop_from_right: Optional[Callable[[int, int], bool]] = None\n",
    "    ) -> Deck:\n",
    "    \"\"\"Return a new sequence of shuffled cards from the cards provided.\"\"\"\n",
    "    if _get_random_number_for_right is None:\n",
    "        _get_random_number_for_right = get_random_number_for_right_deck\n",
    "    if _should_drop_from_right is None:\n",
    "        _should_drop_from_right = should_drop_from_right_deck\n",
    "        \n",
    "    right_deck_size = _get_random_number_for_right(len(cards))\n",
    "    left_deck, right_deck = cards[right_deck_size:], cards[:right_deck_size]\n",
    "    \n",
    "    shuffled_deck = deque()  # wherein the head of the deck is the \"top\"\n",
    "    while left_deck and right_deck:\n",
    "        dropped_card = (\n",
    "            right_deck\n",
    "            if _should_drop_from_right(len(left_deck), len(right_deck))\n",
    "            else left_deck\n",
    "        ).pop()\n",
    "        shuffled_deck.appendleft(dropped_card)\n",
    "        \n",
    "    return list(chain(left_deck, right_deck, shuffled_deck))"
   ]
  },
  {
   "cell_type": "markdown",
   "metadata": {},
   "source": [
    "_Don’t forget to test your implementation!_"
   ]
  },
  {
   "cell_type": "code",
   "execution_count": 2,
   "metadata": {},
   "outputs": [
    {
     "name": "stderr",
     "output_type": "stream",
     "text": [
      "hypothesis_temporary_module_dc2375e207f3943b198b2446edd401d2f608dceb:5: HypothesisDeprecationWarning: Test took 969.23ms to run. In future the default deadline setting will be 200ms, which will make this an error. You can set deadline to an explicit value of e.g. 1000 to turn tests slower than this into an error, or you can set it to None to disable this check entirely.\n",
      "hypothesis_temporary_module_a434c2b724e787528ba65d3f1b510f001c56674f:20: HypothesisDeprecationWarning: Test took 204.48ms to run. In future the default deadline setting will be 200ms, which will make this an error. You can set deadline to an explicit value of e.g. 300 to turn tests slower than this into an error, or you can set it to None to disable this check entirely.\n",
      "/root/miniconda2/envs/py36/lib/python3.6/site-packages/hypothesis/searchstrategy/lazy.py:121: HypothesisDeprecationWarning: streaming() has been deprecated. Use the data() strategy instead and replace stream iteration with data.draw() calls.\n",
      "  *self.__args, **self.__kwargs\n"
     ]
    }
   ],
   "source": [
    "from hypothesis import given, strategies as st\n",
    "\n",
    "\n",
    "@given(n_cards=st.integers(min_value=0), right_deck_size=st.integers(min_value=0))\n",
    "def test_exhaust_right(n_cards, right_deck_size):\n",
    "    \"\"\"Ensure exhausting right deck is equivalent to putting left deck on top of right.\"\"\"\n",
    "    right_deck_size = right_deck_size % (n_cards + 1)\n",
    "    original_deck = list(range(n_cards))\n",
    "    \n",
    "    shuffled_deck = shuffle(\n",
    "        original_deck,\n",
    "        _get_random_number_for_right=lambda n: right_deck_size,\n",
    "        _should_drop_from_right=lambda n_left, n_right: True\n",
    "    )\n",
    "    \n",
    "    assert shuffled_deck == original_deck[right_deck_size:] + original_deck[:right_deck_size]\n",
    "    \n",
    "    \n",
    "@given(n_cards=st.integers(min_value=0), right_deck_size=st.integers(min_value=0))\n",
    "def test_exhaust_left(n_cards, right_deck_size):\n",
    "    \"\"\"Ensure exhausting left deck preserves order.\"\"\"\n",
    "    right_deck_size = right_deck_size % (n_cards + 1)\n",
    "    original_deck = list(range(n_cards))\n",
    "    \n",
    "    shuffled_deck = shuffle(\n",
    "        original_deck,\n",
    "        _get_random_number_for_right=lambda n: right_deck_size,\n",
    "        _should_drop_from_right=lambda n_left, n_right: False\n",
    "    )\n",
    "    \n",
    "    assert shuffled_deck == original_deck\n",
    "    \n",
    "    \n",
    "@given(\n",
    "    n_cards=st.integers(min_value=0), \n",
    "    right_deck_size=st.integers(min_value=0),\n",
    "    deck_selections=st.streaming(st.booleans())\n",
    ")\n",
    "def test_cards_preserved(n_cards, right_deck_size, deck_selections):\n",
    "    \"\"\"\n",
    "    Ensure shuffle preserves all cards from the given deck, returning a new deck object, \n",
    "    without mutating the original deck provided.\n",
    "    \"\"\"\n",
    "    right_deck_size = right_deck_size % (n_cards + 1)\n",
    "    deck_selections = iter(deck_selections)\n",
    "    original_deck = list(range(n_cards))\n",
    "    \n",
    "    shuffled_deck = shuffle(\n",
    "        original_deck,\n",
    "        _get_random_number_for_right=lambda n: right_deck_size,\n",
    "        _should_drop_from_right=lambda n_left, n_right: next(deck_selections)\n",
    "    )\n",
    "    \n",
    "    assert set(shuffled_deck) == set(original_deck)\n",
    "    assert shuffled_deck is not original_deck\n",
    "    assert original_deck == list(range(n_cards))\n",
    "    \n",
    "    \n",
    "test_exhaust_right()\n",
    "test_exhaust_left()\n",
    "test_cards_preserved()"
   ]
  },
  {
   "cell_type": "markdown",
   "metadata": {},
   "source": [
    "_After you have written and tested the_ `shuffle()` _function, implement the Gilbert-Shannon-Reeds model for shuffling by writing appropriate_ `get_random_number_for_right_deck(n)` _and_ `should_drop_from_right_deck(n_left, n_right)` _functions and using them in your_ `shuffle()` _implementation._"
   ]
  },
  {
   "cell_type": "code",
   "execution_count": 3,
   "metadata": {},
   "outputs": [],
   "source": [
    "from math import factorial as fac\n",
    "import random \n",
    "\n",
    "random.seed('2017-12-6')\n",
    "\n",
    "\n",
    "def get_random_number_for_right_deck(n: int) -> int:\n",
    "    \"\"\"\n",
    "    Return an integer between 0 and n (inclusive), the number of cards \n",
    "    to split into the right sub-deck.\n",
    "    \"\"\"\n",
    "    target = random.random()\n",
    "    for k in range(n + 1):\n",
    "        target -= fac(n) / (fac(k) * fac(n - k)) / (2 ** n)  # see Bayer & Diaconis (1992)\n",
    "        if target <= 0:\n",
    "            return k\n",
    "    return k\n",
    "\n",
    "\n",
    "def should_drop_from_right_deck(n_left: int, n_right: int) -> bool:\n",
    "    \"\"\"Return whether we should drop from the right deck.\"\"\"\n",
    "    return random.random() <= (n_right / (n_left + n_right))  # see Bayer & Diaconis (1992)"
   ]
  },
  {
   "cell_type": "markdown",
   "metadata": {},
   "source": [
    "_Finally, the best part: Use your implementation to investigate how many shuffles are necessary to fully randomize an ordered deck. Write a script that encapsulates your findings, making any plots or printing any statistics that make your point. How many shuffles is it for deck sizes of 26, 52, and 104?_\n",
    "\n",
    "In a randomized deck, we should expect a uniform probability distribution of a card across all deck positions, or, that any given position is equally likely to be filled by any of the cards. We can use a $\\chi^{2}$ test to determine the confidence level of assuming bias in the observed distribution."
   ]
  },
  {
   "cell_type": "code",
   "execution_count": 4,
   "metadata": {},
   "outputs": [],
   "source": [
    "from functools import reduce\n",
    "\n",
    "\n",
    "def compose(*fns):\n",
    "    return reduce(\n",
    "        lambda f, g: lambda x: f(g(x)),\n",
    "        fns\n",
    "    )\n",
    "\n",
    "\n",
    "def shuffle_n(n):\n",
    "    return compose(*[shuffle] * n)"
   ]
  },
  {
   "cell_type": "code",
   "execution_count": 5,
   "metadata": {},
   "outputs": [],
   "source": [
    "from typing import Iterable, Dict\n",
    "from collections import defaultdict\n",
    "from scipy.stats.distributions import chi2\n",
    "\n",
    "\n",
    "def position_counts(decks: Iterable[Deck]) -> Dict[int, Dict[int, int]]:\n",
    "    \"\"\"Return count of occurrences of each card in each deck position.\"\"\"\n",
    "    result = defaultdict(lambda: defaultdict(int))\n",
    "    for deck in decks:\n",
    "        for i, card in enumerate(deck):\n",
    "            result[i][card] += 1\n",
    "    return result\n",
    "\n",
    "\n",
    "def chi_squared(counts: Dict[int, Dict[int, int]]) -> float:\n",
    "    \"\"\"Return chi-squared value of given observations.\"\"\"\n",
    "    num_cards = len(counts)\n",
    "    num_samples = sum(counts[0].values())\n",
    "    expected = num_samples / num_cards\n",
    "    return sum(\n",
    "        ((observed - expected) ** 2) / expected\n",
    "        for observed in counts[0].values()\n",
    "    )\n",
    "\n",
    "\n",
    "def confidences(n_cards, sample_size=1000, shuffles=10) -> List[float]:\n",
    "    \"\"\"\n",
    "    Return confidence level of bias for specified number of cards and range\n",
    "    of shuffle iterations.\n",
    "    \"\"\"\n",
    "    deck = list(range(n_cards))\n",
    "    return [\n",
    "        1 - chi2.sf(\n",
    "            chi_squared(\n",
    "                position_counts(\n",
    "                    shuffle_n(n_shuffles)(deck) \n",
    "                    for __ in range(sample_size)\n",
    "                )\n",
    "            ), \n",
    "            n_cards - 1\n",
    "        )\n",
    "        for n_shuffles in range(1, shuffles)\n",
    "    ]"
   ]
  },
  {
   "cell_type": "code",
   "execution_count": 6,
   "metadata": {},
   "outputs": [
    {
     "data": {
      "image/png": "[encoded data removed]",
      "text/plain": [
       "<matplotlib.figure.Figure at 0x7fd590eedbe0>"
      ]
     },
     "metadata": {},
     "output_type": "display_data"
    }
   ],
   "source": [
    "%matplotlib inline\n",
    "import matplotlib.pyplot as pl\n",
    "from matplotlib.ticker import PercentFormatter\n",
    "\n",
    "\n",
    "pl.style.use('ggplot')\n",
    "fig = pl.figure(figsize=(10, 6))\n",
    "ax = fig.add_subplot(1, 1, 1)\n",
    "ax.plot(range(1, 10), confidences(26), 'o-', label='26 cards')\n",
    "ax.plot(range(1, 10), confidences(52), '^-', label='52 cards')\n",
    "ax.plot(range(1, 10), confidences(104), 's-', label='104 cards')\n",
    "pl.xlabel('Number of shuffles')\n",
    "pl.ylabel('Confidence level of bias')\n",
    "ax.legend()\n",
    "ax.yaxis.set_major_formatter(PercentFormatter(1.0))"
   ]
  },
  {
   "cell_type": "markdown",
   "metadata": {},
   "source": [
    "As can be seen in the above, confidence in rejecting the null hypothesis of independence between card and card position dips below 90% for 26 cards after 5 shuffles, and for 52 and 104 cards after 6 shuffles, with confidences dropping below 50% for all deck sizes after 7 shuffles."
   ]
  },
  {
   "cell_type": "markdown",
   "metadata": {},
   "source": [
    "_Do you think these findings are robust to small changes to the shuffling model? Why or why not? If you’re having trouble thinking of changes to the model, consider how one might model wear and tear on the cards, for instance if they became sticky from years of fun times and spilled drinks._\n",
    "\n",
    "Depending on the nature of the alteration, changes to the shuffling model can drastically alter the randomness of the deck after shuffling. Consider, for instance, the case in which cards are dropped from the left or right sub-decks two at a time. In this scenario, pairs of initially adjacent cards can only be separated within the deck during the \"cut\" phase - meaning, e.g., in a 52-card deck, that only 7 of 26 pairs could be separated at best."
   ]
  }
 ],
 "metadata": {
  "kernelspec": {
   "display_name": "Python 3",
   "language": "python",
   "name": "python3"
  },
  "language_info": {
   "codemirror_mode": {
    "name": "ipython",
    "version": 3
   },
   "file_extension": ".py",
   "mimetype": "text/x-python",
   "name": "python",
   "nbconvert_exporter": "python",
   "pygments_lexer": "ipython3",
   "version": "3.6.3"
  }
 },
 "nbformat": 4,
 "nbformat_minor": 2
}
